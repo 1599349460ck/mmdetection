{
 "cells": [
  {
   "cell_type": "code",
   "execution_count": 1,
   "metadata": {},
   "outputs": [],
   "source": [
    "from mmcv import Config\n",
    "from mmdet.apis import train_detector\n",
    "from mmdet.datasets import build_dataset\n",
    "from mmdet.models import build_detector"
   ]
  },
  {
   "cell_type": "code",
   "execution_count": 2,
   "metadata": {},
   "outputs": [],
   "source": [
    "config_file = '../configs/faster_rcnn_r50_fpn_1x.py'\n",
    "cfg = Config.fromfile(config_file)\n",
    "cfg.gpu_ids = [0]"
   ]
  },
  {
   "cell_type": "code",
   "execution_count": 3,
   "metadata": {},
   "outputs": [
    {
     "name": "stderr",
     "output_type": "stream",
     "text": [
      "2020-04-28 21:01:33,744 - mmdet - INFO - load model from: torchvision://resnet50\n",
      "2020-04-28 21:01:34,024 - mmdet - WARNING - The model and loaded state dict do not match exactly\n",
      "\n",
      "unexpected key in source state_dict: fc.weight, fc.bias\n",
      "\n"
     ]
    }
   ],
   "source": [
    "model = build_detector(\n",
    "    cfg.model, train_cfg=cfg.train_cfg, test_cfg=cfg.test_cfg)"
   ]
  },
  {
   "cell_type": "code",
   "execution_count": 4,
   "metadata": {},
   "outputs": [
    {
     "name": "stdout",
     "output_type": "stream",
     "text": [
      "loading annotations into memory...\n",
      "Done (t=10.63s)\n",
      "creating index...\n",
      "index created!\n"
     ]
    }
   ],
   "source": [
    "datasets = [build_dataset(cfg.data.train)]"
   ]
  },
  {
   "cell_type": "code",
   "execution_count": null,
   "metadata": {},
   "outputs": [
    {
     "name": "stdout",
     "output_type": "stream",
     "text": [
      "loading annotations into memory...\n"
     ]
    },
    {
     "name": "stderr",
     "output_type": "stream",
     "text": [
      "2020-04-28 21:01:57,204 - mmdet - INFO - Start running, host: SENSETIME\\chenkai@CN0014000749L, work_dir: /home/SENSETIME/chenkai/projects/mmdetection/demo/work_dirs/faster_rcnn_r50_fpn_1x\n",
      "2020-04-28 21:01:57,204 - mmdet - INFO - workflow: [('train', 1)], max: 12 epochs\n"
     ]
    },
    {
     "name": "stdout",
     "output_type": "stream",
     "text": [
      "Done (t=0.37s)\n",
      "creating index...\n",
      "index created!\n"
     ]
    },
    {
     "name": "stderr",
     "output_type": "stream",
     "text": [
      "2020-04-28 21:02:36,832 - mmdet - INFO - Epoch [1][50/58633]\tlr: 0.00797, eta: 6 days, 10:50:42, time: 0.792, data_time: 0.008, memory: 3790, loss_rpn_cls: 0.3756, loss_rpn_bbox: 0.0822, loss_cls: 0.6886, acc: 93.6641, loss_bbox: 0.0878, loss: 1.2340\n",
      "2020-04-28 21:03:15,571 - mmdet - INFO - Epoch [1][100/58633]\tlr: 0.00931, eta: 6 days, 9:07:15, time: 0.775, data_time: 0.004, memory: 3790, loss_rpn_cls: 0.2981, loss_rpn_bbox: 0.0908, loss_cls: 0.4439, acc: 94.5137, loss_bbox: 0.1087, loss: 0.9415\n"
     ]
    }
   ],
   "source": [
    "train_detector(model, datasets, cfg, validate=True)"
   ]
  },
  {
   "cell_type": "code",
   "execution_count": null,
   "metadata": {},
   "outputs": [],
   "source": []
  }
 ],
 "metadata": {
  "kernelspec": {
   "display_name": "Python 3",
   "language": "python",
   "name": "python3"
  },
  "language_info": {
   "codemirror_mode": {
    "name": "ipython",
    "version": 3
   },
   "file_extension": ".py",
   "mimetype": "text/x-python",
   "name": "python",
   "nbconvert_exporter": "python",
   "pygments_lexer": "ipython3",
   "version": "3.7.7"
  }
 },
 "nbformat": 4,
 "nbformat_minor": 4
}
