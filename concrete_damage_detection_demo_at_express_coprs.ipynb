{
 "cells": [
  {
   "cell_type": "code",
   "execution_count": null,
   "metadata": {},
   "outputs": [],
   "source": [
    "'''\n",
    "\n",
    "Code for jupyter notebook demo \n",
    "\n",
    "'''\n",
    "\n",
    "\n",
    "import numpy as np\n",
    "import slidingwindow as sw\n",
    "import sys\n",
    "\n",
    "from mmdet.apis import init_detector, inference_detector\n",
    "from mmcv.runner import load_checkpoint\n",
    "\n",
    "\n",
    "# import shm_tools here\n",
    "sys.path.append('..')\n",
    "from shm_tools.shm_utils import imread, imwrite"
   ]
  },
  {
   "cell_type": "code",
   "execution_count": 1,
   "metadata": {},
   "outputs": [
    {
     "data": {
      "text/plain": [
       "'\\n\\n1. Visualize how inference the images \\n    1-1. Visualize Sliding Windows \\n    1-2. Inference result display \\n\\nThings-to-do \\n\\n1. download checkpoints from the rtx server\\n    \\n\\n\\n'"
      ]
     },
     "execution_count": 1,
     "metadata": {},
     "output_type": "execute_result"
    }
   ],
   "source": [
    "'''\n",
    "\n",
    "1. Visualize how inference the images \n",
    "    1-1. Visualize Sliding Windows \n",
    "    1-2. Inference result display \n",
    "\n",
    "Things-to-do \n",
    "1. download checkpoints from the rtx server\n",
    "  1. tunnel efflorescence \n",
    "  2. tunnel crack \n",
    "  3. road crack \n",
    "  4. bridge crack / effloresences / spalling \n",
    "\n",
    "or do I have to re-train the model?? \n",
    "    \n",
    "\n",
    "\n",
    "''' \n"
   ]
  },
  {
   "cell_type": "code",
   "execution_count": null,
   "metadata": {},
   "outputs": [],
   "source": [
    " "
   ]
  }
 ],
 "metadata": {
  "kernelspec": {
   "display_name": "Python 3",
   "language": "python",
   "name": "python3"
  },
  "language_info": {
   "codemirror_mode": {
    "name": "ipython",
    "version": 3
   },
   "file_extension": ".py",
   "mimetype": "text/x-python",
   "name": "python",
   "nbconvert_exporter": "python",
   "pygments_lexer": "ipython3",
   "version": "3.7.4"
  }
 },
 "nbformat": 4,
 "nbformat_minor": 2
}
