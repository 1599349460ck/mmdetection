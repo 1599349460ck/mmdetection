{
  "nbformat": 4,
  "nbformat_minor": 0,
  "metadata": {
    "colab": {
      "name": "MMDet Tutorial.ipynb",
      "provenance": [],
      "collapsed_sections": [],
      "toc_visible": true,
      "authorship_tag": "ABX9TyMuqhLkExawhkzqMEqC6Kyi",
      "include_colab_link": true
    },
    "kernelspec": {
      "name": "python3",
      "display_name": "Python 3"
    },
    "accelerator": "GPU"
  },
  "cells": [
    {
      "cell_type": "markdown",
      "metadata": {
        "id": "view-in-github",
        "colab_type": "text"
      },
      "source": [
        "<a href=\"https://colab.research.google.com/github/ZwwWayne/mmdetection/blob/add-colab-tutorial/demo/MMDet_Tutorial.ipynb\" target=\"_parent\"><img src=\"https://colab.research.google.com/assets/colab-badge.svg\" alt=\"Open In Colab\"/></a>"
      ]
    },
    {
      "cell_type": "markdown",
      "metadata": {
        "id": "aGYwt_UjIrqp",
        "colab_type": "text"
      },
      "source": [
        "# MMDetection Tutorial\n",
        "\n",
        "Welcome to MMDetection! This is the official colab tutorial for using MMDetection. In this tutorial, you will learn\n",
        "- Perform inference with a MMDet detector.\n",
        "- Train a new detector with a new dataset.\n",
        "\n",
        "Let's start!\n"
      ]
    },
    {
      "cell_type": "markdown",
      "metadata": {
        "id": "tJxJHruNLb7Y",
        "colab_type": "text"
      },
      "source": [
        "## Install MMDetection"
      ]
    },
    {
      "cell_type": "code",
      "metadata": {
        "id": "Wi4LPmsR66sy",
        "colab_type": "code",
        "colab": {
          "base_uri": "https://localhost:8080/",
          "height": 85
        },
        "outputId": "31ab694e-b96f-4585-9435-87e6588bc8c0"
      },
      "source": [
        "!nvcc -V"
      ],
      "execution_count": 1,
      "outputs": [
        {
          "output_type": "stream",
          "text": [
            "nvcc: NVIDIA (R) Cuda compiler driver\n",
            "Copyright (c) 2005-2019 NVIDIA Corporation\n",
            "Built on Sun_Jul_28_19:07:16_PDT_2019\n",
            "Cuda compilation tools, release 10.1, V10.1.243\n"
          ],
          "name": "stdout"
        }
      ]
    },
    {
      "cell_type": "code",
      "metadata": {
        "id": "gkGnB9WyHSXB",
        "colab_type": "code",
        "colab": {
          "base_uri": "https://localhost:8080/",
          "height": 734
        },
        "outputId": "d2426451-254b-4a43-9454-3edd3fff6458"
      },
      "source": [
        "# install dependencies: (use cu101 because colab has CUDA 10.1)\n",
        "!pip install -U torch==1.5.1+cu101 torchvision==0.6.1+cu101 -f https://download.pytorch.org/whl/torch_stable.html\n",
        "!pip install cython mmcv==0.6.2\n",
        "# OpenMMLab maintains a fork of cocoapi\n",
        "!pip install -U 'git+https://github.com/open-mmlab/cocoapi.git#subdirectory=pycocotools'\n",
        "import torch, torchvision\n",
        "print(torch.__version__, torch.cuda.is_available())\n",
        "!gcc --version"
      ],
      "execution_count": 2,
      "outputs": [
        {
          "output_type": "stream",
          "text": [
            "Looking in links: https://download.pytorch.org/whl/torch_stable.html\n",
            "Requirement already up-to-date: torch==1.5.1+cu101 in /usr/local/lib/python3.6/dist-packages (1.5.1+cu101)\n",
            "Requirement already up-to-date: torchvision==0.6.1+cu101 in /usr/local/lib/python3.6/dist-packages (0.6.1+cu101)\n",
            "Requirement already satisfied, skipping upgrade: future in /usr/local/lib/python3.6/dist-packages (from torch==1.5.1+cu101) (0.16.0)\n",
            "Requirement already satisfied, skipping upgrade: numpy in /usr/local/lib/python3.6/dist-packages (from torch==1.5.1+cu101) (1.18.5)\n",
            "Requirement already satisfied, skipping upgrade: pillow>=4.1.1 in /usr/local/lib/python3.6/dist-packages (from torchvision==0.6.1+cu101) (6.2.2)\n",
            "Requirement already satisfied: cython in /usr/local/lib/python3.6/dist-packages (0.29.20)\n",
            "Requirement already satisfied: mmcv==0.6.2 in /usr/local/lib/python3.6/dist-packages (0.6.2)\n",
            "Requirement already satisfied: addict in /usr/local/lib/python3.6/dist-packages (from mmcv==0.6.2) (2.2.1)\n",
            "Requirement already satisfied: pyyaml in /usr/local/lib/python3.6/dist-packages (from mmcv==0.6.2) (3.13)\n",
            "Requirement already satisfied: numpy in /usr/local/lib/python3.6/dist-packages (from mmcv==0.6.2) (1.18.5)\n",
            "Requirement already satisfied: yapf in /usr/local/lib/python3.6/dist-packages (from mmcv==0.6.2) (0.30.0)\n",
            "Requirement already satisfied: opencv-python>=3 in /usr/local/lib/python3.6/dist-packages (from mmcv==0.6.2) (4.1.2.30)\n",
            "Collecting git+https://github.com/open-mmlab/cocoapi.git#subdirectory=pycocotools\n",
            "  Cloning https://github.com/open-mmlab/cocoapi.git to /tmp/pip-req-build-bquc_2pr\n",
            "  Running command git clone -q https://github.com/open-mmlab/cocoapi.git /tmp/pip-req-build-bquc_2pr\n",
            "Requirement already satisfied, skipping upgrade: setuptools>=18.0 in /usr/local/lib/python3.6/dist-packages (from pycocotools==12.0) (47.3.1)\n",
            "Requirement already satisfied, skipping upgrade: cython>=0.27.3 in /usr/local/lib/python3.6/dist-packages (from pycocotools==12.0) (0.29.20)\n",
            "Requirement already satisfied, skipping upgrade: matplotlib>=2.1.0 in /usr/local/lib/python3.6/dist-packages (from pycocotools==12.0) (3.2.2)\n",
            "Requirement already satisfied, skipping upgrade: cycler>=0.10 in /usr/local/lib/python3.6/dist-packages (from matplotlib>=2.1.0->pycocotools==12.0) (0.10.0)\n",
            "Requirement already satisfied, skipping upgrade: kiwisolver>=1.0.1 in /usr/local/lib/python3.6/dist-packages (from matplotlib>=2.1.0->pycocotools==12.0) (1.2.0)\n",
            "Requirement already satisfied, skipping upgrade: pyparsing!=2.0.4,!=2.1.2,!=2.1.6,>=2.0.1 in /usr/local/lib/python3.6/dist-packages (from matplotlib>=2.1.0->pycocotools==12.0) (2.4.7)\n",
            "Requirement already satisfied, skipping upgrade: python-dateutil>=2.1 in /usr/local/lib/python3.6/dist-packages (from matplotlib>=2.1.0->pycocotools==12.0) (2.8.1)\n",
            "Requirement already satisfied, skipping upgrade: numpy>=1.11 in /usr/local/lib/python3.6/dist-packages (from matplotlib>=2.1.0->pycocotools==12.0) (1.18.5)\n",
            "Requirement already satisfied, skipping upgrade: six in /usr/local/lib/python3.6/dist-packages (from cycler>=0.10->matplotlib>=2.1.0->pycocotools==12.0) (1.12.0)\n",
            "Building wheels for collected packages: pycocotools\n",
            "  Building wheel for pycocotools (setup.py) ... \u001b[?25l\u001b[?25hdone\n",
            "  Created wheel for pycocotools: filename=pycocotools-12.0-cp36-cp36m-linux_x86_64.whl size=267287 sha256=918b50f3bacd417fcd9bcb51175ed4f87d51ef3280f01934630a31b17f7b8adc\n",
            "  Stored in directory: /tmp/pip-ephem-wheel-cache-5p4gfor6/wheels/cd/f6/de/018ccc2d175046c612e93b42a169cd1ab7563d61581cfba8df\n",
            "Successfully built pycocotools\n",
            "Installing collected packages: pycocotools\n",
            "  Found existing installation: pycocotools 12.0\n",
            "    Uninstalling pycocotools-12.0:\n",
            "      Successfully uninstalled pycocotools-12.0\n",
            "Successfully installed pycocotools-12.0\n",
            "1.5.1+cu101 True\n",
            "gcc (Ubuntu 7.5.0-3ubuntu1~18.04) 7.5.0\n",
            "Copyright (C) 2017 Free Software Foundation, Inc.\n",
            "This is free software; see the source for copying conditions.  There is NO\n",
            "warranty; not even for MERCHANTABILITY or FITNESS FOR A PARTICULAR PURPOSE.\n",
            "\n"
          ],
          "name": "stdout"
        }
      ]
    },
    {
      "cell_type": "code",
      "metadata": {
        "id": "vhvrt-tyMahp",
        "colab_type": "code",
        "colab": {
          "base_uri": "https://localhost:8080/",
          "height": 576
        },
        "outputId": "1a2c8623-099a-4e1b-b53f-8ff56771f531"
      },
      "source": [
        "# Try to install from pip package when it is available\n",
        "!rm -rf mmdetection\n",
        "!git clone https://github.com/open-mmlab/mmdetection.git\n",
        "%cd mmdetection\n",
        "!pip install -e ."
      ],
      "execution_count": null,
      "outputs": [
        {
          "output_type": "stream",
          "text": [
            "Cloning into 'mmdetection'...\n",
            "remote: Enumerating objects: 37, done.\u001b[K\n",
            "remote: Counting objects:   2% (1/37)\u001b[K\rremote: Counting objects:   5% (2/37)\u001b[K\rremote: Counting objects:   8% (3/37)\u001b[K\rremote: Counting objects:  10% (4/37)\u001b[K\rremote: Counting objects:  13% (5/37)\u001b[K\rremote: Counting objects:  16% (6/37)\u001b[K\rremote: Counting objects:  18% (7/37)\u001b[K\rremote: Counting objects:  21% (8/37)\u001b[K\rremote: Counting objects:  24% (9/37)\u001b[K\rremote: Counting objects:  27% (10/37)\u001b[K\rremote: Counting objects:  29% (11/37)\u001b[K\rremote: Counting objects:  32% (12/37)\u001b[K\rremote: Counting objects:  35% (13/37)\u001b[K\rremote: Counting objects:  37% (14/37)\u001b[K\rremote: Counting objects:  40% (15/37)\u001b[K\rremote: Counting objects:  43% (16/37)\u001b[K\rremote: Counting objects:  45% (17/37)\u001b[K\rremote: Counting objects:  48% (18/37)\u001b[K\rremote: Counting objects:  51% (19/37)\u001b[K\rremote: Counting objects:  54% (20/37)\u001b[K\rremote: Counting objects:  56% (21/37)\u001b[K\rremote: Counting objects:  59% (22/37)\u001b[K\rremote: Counting objects:  62% (23/37)\u001b[K\rremote: Counting objects:  64% (24/37)\u001b[K\rremote: Counting objects:  67% (25/37)\u001b[K\rremote: Counting objects:  70% (26/37)\u001b[K\rremote: Counting objects:  72% (27/37)\u001b[K\rremote: Counting objects:  75% (28/37)\u001b[K\rremote: Counting objects:  78% (29/37)\u001b[K\rremote: Counting objects:  81% (30/37)\u001b[K\rremote: Counting objects:  83% (31/37)\u001b[K\rremote: Counting objects:  86% (32/37)\u001b[K\rremote: Counting objects:  89% (33/37)\u001b[K\rremote: Counting objects:  91% (34/37)\u001b[K\rremote: Counting objects:  94% (35/37)\u001b[K\rremote: Counting objects:  97% (36/37)\u001b[K\rremote: Counting objects: 100% (37/37)\u001b[K\rremote: Counting objects: 100% (37/37), done.\u001b[K\n",
            "remote: Compressing objects: 100% (31/31), done.\u001b[K\n",
            "remote: Total 11955 (delta 10), reused 10 (delta 5), pack-reused 11918\u001b[K\n",
            "Receiving objects: 100% (11955/11955), 9.38 MiB | 24.63 MiB/s, done.\n",
            "Resolving deltas: 100% (8155/8155), done.\n",
            "/content/mmdetection\n",
            "Obtaining file:///content/mmdetection\n",
            "Requirement already satisfied: matplotlib in /usr/local/lib/python3.6/dist-packages (from mmdet==2.2.0+033277d) (3.2.2)\n",
            "Requirement already satisfied: mmcv>=0.6.2 in /usr/local/lib/python3.6/dist-packages (from mmdet==2.2.0+033277d) (0.6.2)\n",
            "Requirement already satisfied: numpy in /usr/local/lib/python3.6/dist-packages (from mmdet==2.2.0+033277d) (1.18.5)\n",
            "Requirement already satisfied: Pillow<=6.2.2 in /usr/local/lib/python3.6/dist-packages (from mmdet==2.2.0+033277d) (6.2.2)\n",
            "Requirement already satisfied: six in /usr/local/lib/python3.6/dist-packages (from mmdet==2.2.0+033277d) (1.12.0)\n",
            "Requirement already satisfied: terminaltables in /usr/local/lib/python3.6/dist-packages (from mmdet==2.2.0+033277d) (3.1.0)\n",
            "Requirement already satisfied: torch>=1.3 in /usr/local/lib/python3.6/dist-packages (from mmdet==2.2.0+033277d) (1.5.1+cu101)\n",
            "Requirement already satisfied: torchvision in /usr/local/lib/python3.6/dist-packages (from mmdet==2.2.0+033277d) (0.6.1+cu101)\n",
            "Requirement already satisfied: python-dateutil>=2.1 in /usr/local/lib/python3.6/dist-packages (from matplotlib->mmdet==2.2.0+033277d) (2.8.1)\n",
            "Requirement already satisfied: cycler>=0.10 in /usr/local/lib/python3.6/dist-packages (from matplotlib->mmdet==2.2.0+033277d) (0.10.0)\n",
            "Requirement already satisfied: pyparsing!=2.0.4,!=2.1.2,!=2.1.6,>=2.0.1 in /usr/local/lib/python3.6/dist-packages (from matplotlib->mmdet==2.2.0+033277d) (2.4.7)\n",
            "Requirement already satisfied: kiwisolver>=1.0.1 in /usr/local/lib/python3.6/dist-packages (from matplotlib->mmdet==2.2.0+033277d) (1.2.0)\n",
            "Requirement already satisfied: addict in /usr/local/lib/python3.6/dist-packages (from mmcv>=0.6.2->mmdet==2.2.0+033277d) (2.2.1)\n",
            "Requirement already satisfied: pyyaml in /usr/local/lib/python3.6/dist-packages (from mmcv>=0.6.2->mmdet==2.2.0+033277d) (3.13)\n",
            "Requirement already satisfied: opencv-python>=3 in /usr/local/lib/python3.6/dist-packages (from mmcv>=0.6.2->mmdet==2.2.0+033277d) (4.1.2.30)\n",
            "Requirement already satisfied: yapf in /usr/local/lib/python3.6/dist-packages (from mmcv>=0.6.2->mmdet==2.2.0+033277d) (0.30.0)\n",
            "Requirement already satisfied: future in /usr/local/lib/python3.6/dist-packages (from torch>=1.3->mmdet==2.2.0+033277d) (0.16.0)\n",
            "Installing collected packages: mmdet\n",
            "  Found existing installation: mmdet 2.2.0+033277d\n",
            "    Can't uninstall 'mmdet'. No files were found to uninstall.\n",
            "  Running setup.py develop for mmdet\n"
          ],
          "name": "stdout"
        }
      ]
    },
    {
      "cell_type": "markdown",
      "metadata": {
        "id": "gi9zw03oM4CH",
        "colab_type": "text"
      },
      "source": [
        "## Perform inference with a MMDet detector\n",
        "MMDetection already provide high level APIs to do inference and training."
      ]
    },
    {
      "cell_type": "code",
      "metadata": {
        "id": "CZoEq0utM5iu",
        "colab_type": "code",
        "colab": {}
      },
      "source": [
        "from mmdet.apis import inference_detector, init_detector, show_result_pyplot"
      ],
      "execution_count": null,
      "outputs": []
    },
    {
      "cell_type": "code",
      "metadata": {
        "id": "8M5KUnX7Np3h",
        "colab_type": "code",
        "colab": {}
      },
      "source": [
        "config = 'configs/mask_rcnn/mask_rcnn_r50_caffe_fpn_mstrain-poly_3x_coco.py'\n",
        "checkpoint = 'https://open-mmlab.s3.ap-northeast-2.amazonaws.com/mmdetection/v2.0/mask_rcnn/mask_rcnn_r50_caffe_fpn_mstrain-poly_3x_coco/mask_rcnn_r50_caffe_fpn_mstrain-poly_3x_coco_bbox_mAP-0.408__segm_mAP-0.37_20200504_163245-42aa3d00.pth'\n",
        "model = init_detector(config, checkpoint, device='cuda:0')"
      ],
      "execution_count": null,
      "outputs": []
    },
    {
      "cell_type": "code",
      "metadata": {
        "id": "Wi6DRpsQPEmV",
        "colab_type": "code",
        "colab": {}
      },
      "source": [
        "img = 'demo/demo.jpg'\n",
        "result = inference_detector(model, img)"
      ],
      "execution_count": null,
      "outputs": []
    },
    {
      "cell_type": "code",
      "metadata": {
        "id": "UsJU5D-QPX8L",
        "colab_type": "code",
        "colab": {}
      },
      "source": [
        "show_result_pyplot(model, img, result, score_thr=0.3)"
      ],
      "execution_count": null,
      "outputs": []
    },
    {
      "cell_type": "markdown",
      "metadata": {
        "id": "7GrWIJywLV-V",
        "colab_type": "text"
      },
      "source": [
        "## Train a detector on customized dataset\n",
        "\n",
        "To train a new detector, there are usually three things to do:\n",
        "1. Support a new dataset\n",
        "2. Modify the config\n",
        "3. Train a new detector\n",
        "\n"
      ]
    },
    {
      "cell_type": "markdown",
      "metadata": {
        "id": "E73y5Lru-wBx",
        "colab_type": "text"
      },
      "source": [
        "### Support a new dataset\n",
        "\n",
        "There are three ways to support a new dataset in MMDetection: 1. reorganize the dataset into COCO format, 2. reorganize the dataset into a middle format, 3. implement a new dataset. Usually we recommend to use the first two methods which are usually easier than the third.\n",
        "\n",
        "In this tutorial, we gives an example that converting the data into middle format. Other methods and more advanced usages can be found in the [doc](https://mmdetection.readthedocs.io/en/latest/tutorials/new_dataset.html#).\n",
        "\n",
        "Firstly, let's download a tiny dataset obtained from [KITTI](http://www.cvlibs.net/datasets/kitti/eval_object.php?obj_benchmark=3d). We select the first 75 images and their annotations from the 3D object detection dataset (it is the same dataset as the 2D object detection dataset but has 3D annotations. We convert the original images from PNG to JPEG format with 80% quality to reduce the size of dataset."
      ]
    },
    {
      "cell_type": "code",
      "metadata": {
        "id": "rHnw5Q_nARXq",
        "colab_type": "code",
        "colab": {}
      },
      "source": [
        "# download, decompress the data\n",
        "!wget https://open-mmlab.s3.ap-northeast-2.amazonaws.com/mmdetection/data/kitti_tiny.zip\n",
        "!unzip kitti_tiny.zip > /dev/null\n",
        "!ls kitti_tiny"
      ],
      "execution_count": null,
      "outputs": []
    },
    {
      "cell_type": "markdown",
      "metadata": {
        "id": "PMZvtSIl71qi",
        "colab_type": "text"
      },
      "source": [
        "After downloading the data, we need to implement a function to convert the kitti annotation format into the middle format.\n",
        "\n"
      ]
    },
    {
      "cell_type": "code",
      "metadata": {
        "id": "GdSaB2ad0EdX",
        "colab_type": "code",
        "colab": {}
      },
      "source": [
        "import copy\n",
        "import os.path as osp\n",
        "\n",
        "import mmcv\n",
        "import numpy as np\n",
        "\n",
        "from mmdet.apis import (inference_detector, set_random_seed,\n",
        "                        show_result_pyplot, train_detector)\n",
        "from mmdet.models import build_detector\n",
        "from mmdet.utils import get_root_logger\n",
        "\n",
        "\n",
        "def load_kitti2middle(data_root,\n",
        "                      list_path,\n",
        "                      cat2label,\n",
        "                      img_prefix='training/image_2'):\n",
        "    # load image list from file\n",
        "    image_list = mmcv.list_from_file(osp.join(data_root, list_path))\n",
        "\n",
        "    data_infos = []\n",
        "    # convert annotations to middle format\n",
        "    for image_id in image_list:\n",
        "        filename = f'{img_prefix}/{image_id}.png'\n",
        "        image = mmcv.imread(filename)\n",
        "        height, width = image.shape[:2]\n",
        "\n",
        "        data_info = dict(filename=filename, width=width, height=height)\n",
        "\n",
        "        # load annotations\n",
        "        label_prefix = img_prefix.replace('image_2', 'label_2')\n",
        "        lines = mmcv.list_from_file(osp.join(label_prefix, f'{image_id}.txt'))\n",
        "\n",
        "        content = [line.strip().split(' ') for line in lines]\n",
        "        bbox_names = [x[0] for x in content]\n",
        "        bboxes = [[float(info) for info in x[4:8]] for x in content]\n",
        "\n",
        "        gt_bboxes = []\n",
        "        gt_labels = []\n",
        "        gt_bboxes_ignore = []\n",
        "        gt_labels_ignore = []\n",
        "\n",
        "        # filter 'DontCare'\n",
        "        for bbox_name, bbox in zip(bbox_names, bboxes):\n",
        "            if bbox_name in cat2label:\n",
        "                gt_labels.append(cat2label[bbox_name])\n",
        "                gt_bboxes.append(bbox)\n",
        "            else:\n",
        "                gt_labels_ignore.append(-1)\n",
        "                gt_bboxes_ignore.append(bbox)\n",
        "\n",
        "        data_anno = dict(\n",
        "            bboxes=np.array(gt_bboxes, dtype=np.float32).reshape(-1, 4),\n",
        "            labels=np.array(gt_labels, dtype=np.long),\n",
        "            bboxes_ignore=np.array(gt_bboxes_ignore,\n",
        "                                   dtype=np.float32).reshape(-1, 4),\n",
        "            labels_ignore=np.array(gt_labels_ignore, dtype=np.long))\n",
        "\n",
        "        data_info.update(ann=data_anno)\n",
        "        data_infos.append(data_info)\n",
        "\n",
        "    return data_infos"
      ],
      "execution_count": null,
      "outputs": []
    },
    {
      "cell_type": "markdown",
      "metadata": {
        "id": "5o8I4dYE0TTr",
        "colab_type": "text"
      },
      "source": [
        "The users could use this function to convert the annotation and save them into a pickle file, thus they do not need to convert them in every training process. Then they can directly use the `CustomDataset` by specifing the `classes` in the config. In this tutorial we choose to convert them in `load_annotations` function in a newly implemented `KittiTinyDataset`."
      ]
    },
    {
      "cell_type": "code",
      "metadata": {
        "id": "BHEVrH3B0PVp",
        "colab_type": "code",
        "colab": {}
      },
      "source": [
        "from mmdet.datasets import build_dataset\n",
        "from mmdet.datasets.builder import DATASETS\n",
        "from mmdet.datasets.custom import CustomDataset\n",
        "\n",
        "@DATASETS.register_module()\n",
        "class KittiTinyDataset(CustomDataset):\n",
        "\n",
        "    CLASSES = ('Car', 'Pedestrian', 'Cyclist')\n",
        "\n",
        "    def load_annotations(self, ann_file):\n",
        "        cat2label = {k: i for i, k in enumerate(self.CLASSES)}\n",
        "        data_infos = load_kitti2middle(\n",
        "            self.data_root,\n",
        "            self.ann_file,\n",
        "            cat2label,\n",
        "            img_prefix=self.img_prefix)\n",
        "\n",
        "        return data_infos\n"
      ],
      "execution_count": null,
      "outputs": []
    },
    {
      "cell_type": "markdown",
      "metadata": {
        "id": "PwqJOpBe-bMj",
        "colab_type": "text"
      },
      "source": [
        "### Modify the config\n",
        "\n",
        "In the next step, we need to modify the config for the training.\n",
        "To accelerate the process, we finetune a detector using a pre-trained detector."
      ]
    },
    {
      "cell_type": "code",
      "metadata": {
        "id": "hamZrlnH-YDD",
        "colab_type": "code",
        "colab": {}
      },
      "source": [
        "from mmcv import Config\n",
        "cfg = Config.fromfile(\n",
        "    './configs/faster_rcnn/faster_rcnn_r50_caffe_fpn_mstrain_1x_coco.py'\n",
        ")"
      ],
      "execution_count": null,
      "outputs": []
    },
    {
      "cell_type": "markdown",
      "metadata": {
        "id": "HntziLGq-92Z",
        "colab_type": "text"
      },
      "source": [
        "Given a config that trains a Faster R-CNN on COCO dataset, we need to modify some values to use it for training Faster R-CNN on KITTI dataset."
      ]
    },
    {
      "cell_type": "code",
      "metadata": {
        "id": "pUbwD8uV0PR8",
        "colab_type": "code",
        "colab": {}
      },
      "source": [
        "# Modify dataset type and path\n",
        "cfg.dataset_type = 'KittiTinyDataset'\n",
        "cfg.data_root = 'kitti_tiny/'\n",
        "\n",
        "cfg.data.test.type = 'KittiTinyDataset'\n",
        "cfg.data.test.data_root = 'kitti_tiny/'\n",
        "cfg.data.test.ann_file = 'kitti_tiny/train.txt'\n",
        "cfg.data.test.img_prefix = 'training/image_2'\n",
        "\n",
        "cfg.data.train.type = 'KittiTinyDataset'\n",
        "cfg.data.train.data_root = 'kitti_tiny/'\n",
        "cfg.data.train.ann_file = 'kitti_tiny/train.txt'\n",
        "cfg.data.train.img_prefix = 'training/image_2'\n",
        "\n",
        "cfg.data.val.type = 'KittiTinyDataset'\n",
        "cfg.data.val.data_root = 'kitti_tiny/'\n",
        "cfg.data.val.ann_file = 'kitti_tiny/val.txt'\n",
        "cfg.data.val.img_prefix = 'training/image_2'\n",
        "\n",
        "# modify num classes of the model in box head\n",
        "cfg.model.roi_head.bbox_head.num_classes = 3\n",
        "# We can still use the pre-trained Mask RCNN model though we do not need to\n",
        "# use the mask branch\n",
        "cfg.load_from = 'mask_rcnn_r50_caffe_fpn_mstrain-poly_3x_coco_bbox_mAP-0.408__segm_mAP-0.37_20200504_163245-42aa3d00.pth'\n",
        "\n",
        "# Set up working dir to save files and logs.\n",
        "cfg.work_dir = './tutorial_exps'\n",
        "\n",
        "# The original learning rate (LR) is set for 8-GPU training.\n",
        "# We divide it by 8 since we only use one GPU.\n",
        "cfg.optimizer.lr = 0.02 / 8\n",
        "cfg.lr_config.warmup = None\n",
        "cfg.log_config.interval = 10\n",
        "\n",
        "# Change the evaluation metric since we use customized dataset.\n",
        "cfg.evaluation.metric = 'mAP'\n",
        "# We can set the evaluation interval to reduce the evaluation times\n",
        "cfg.evaluation.interval = 12\n",
        "\n",
        "# Set seed thus the results are more reproducible\n",
        "cfg.seed = 0\n",
        "set_random_seed(0, deterministic=False)\n",
        "cfg.gpu_ids = range(1)\n",
        "\n",
        "\n",
        "# We can initialize the logger for training and have a look\n",
        "# at the final config used for training\n",
        "logger = get_root_logger()\n",
        "logger.info(f'Config:\\n{cfg.pretty_text}')\n"
      ],
      "execution_count": null,
      "outputs": []
    },
    {
      "cell_type": "markdown",
      "metadata": {
        "id": "111W_oZV_3wa",
        "colab_type": "text"
      },
      "source": [
        "### Train a new detector\n",
        "\n",
        "Finally, lets initialize the dataset and detector, then train a new detector!"
      ]
    },
    {
      "cell_type": "code",
      "metadata": {
        "id": "7WBWHu010PN3",
        "colab_type": "code",
        "colab": {}
      },
      "source": [
        "datasets = [build_dataset(cfg.data.train)]\n",
        "if len(cfg.workflow) == 2:\n",
        "    val_dataset = copy.deepcopy(cfg.data.val)\n",
        "    val_dataset.pipeline = cfg.data.train.pipeline\n",
        "    datasets.append(build_dataset(val_dataset))"
      ],
      "execution_count": null,
      "outputs": []
    },
    {
      "cell_type": "code",
      "metadata": {
        "id": "ScT1b87z0qdc",
        "colab_type": "code",
        "colab": {}
      },
      "source": [
        "model = build_detector(\n",
        "    cfg.model, train_cfg=cfg.train_cfg, test_cfg=cfg.test_cfg)\n",
        "# add an attribute for visualization convenience\n",
        "model.CLASSES = datasets[0].CLASSES"
      ],
      "execution_count": null,
      "outputs": []
    },
    {
      "cell_type": "code",
      "metadata": {
        "id": "dAswC7md0PEL",
        "colab_type": "code",
        "colab": {}
      },
      "source": [
        "# create work_dir\n",
        "mmcv.mkdir_or_exist(osp.abspath(cfg.work_dir))\n",
        "train_detector(model, datasets, cfg, distributed=False, validate=True)"
      ],
      "execution_count": null,
      "outputs": []
    },
    {
      "cell_type": "markdown",
      "metadata": {
        "id": "MfQ-yspZLuuI",
        "colab_type": "text"
      },
      "source": [
        "## Test the trained detector\n",
        "\n"
      ]
    },
    {
      "cell_type": "code",
      "metadata": {
        "id": "_MuZurfGLq0p",
        "colab_type": "code",
        "colab": {}
      },
      "source": [
        "img = mmcv.imread(\n",
        "    'kitti_tiny/training/image_2/000068.jpeg'\n",
        ")\n",
        "\n",
        "model.cfg = cfg\n",
        "result = inference_detector(model, img)\n",
        "show_result_pyplot(model, img, result)\n"
      ],
      "execution_count": null,
      "outputs": []
    },
    {
      "cell_type": "code",
      "metadata": {
        "id": "CnhUEHDEAkuZ",
        "colab_type": "code",
        "colab": {}
      },
      "source": [
        ""
      ],
      "execution_count": null,
      "outputs": []
    }
  ]
}