{
 "cells": [
  {
   "cell_type": "code",
   "execution_count": 3,
   "metadata": {},
   "outputs": [],
   "source": [
    "from tools.analysis_tools.analyze_logs import cal_train_time, plot_curve, add_plot_parser, add_time_parser, load_json_logs, parse_args"
   ]
  },
  {
   "cell_type": "code",
   "execution_count": 4,
   "metadata": {},
   "outputs": [
    {
     "name": "stderr",
     "output_type": "stream",
     "text": [
      "usage: ipykernel_launcher.py [-h] {plot_curve,cal_train_time} ...\n",
      "ipykernel_launcher.py: error: unrecognized arguments: --ip=127.0.0.1 --stdin=9003 --control=9001 --hb=9000 --Session.signature_scheme=\"hmac-sha256\" --Session.key=b\"013e5993-c721-433d-a194-be626e61d921\" --shell=9002 --transport=\"tcp\" --iopub=9004 --f=/tmp/tmp-304973lsV5uXXGvGr.json\n"
     ]
    },
    {
     "ename": "SystemExit",
     "evalue": "2",
     "output_type": "error",
     "traceback": [
      "An exception has occurred, use %tb to see the full traceback.\n",
      "\u001b[0;31mSystemExit\u001b[0m\u001b[0;31m:\u001b[0m 2\n"
     ]
    },
    {
     "name": "stderr",
     "output_type": "stream",
     "text": [
      "/home/gxl/anaconda3/envs/mmdet/lib/python3.9/site-packages/IPython/core/interactiveshell.py:3377: UserWarning: To exit: use 'exit', 'quit', or Ctrl-D.\n",
      "  warn(\"To exit: use 'exit', 'quit', or Ctrl-D.\", stacklevel=1)\n"
     ]
    }
   ],
   "source": [
    "args = parse_args()\n",
    "\n",
    "json_logs = args.json_logs\n",
    "for json_log in json_logs:\n",
    "    assert json_log.endswith('.json')\n",
    "\n",
    "log_dicts = load_json_logs(json_logs)\n",
    "\n",
    "eval(args.task)(log_dicts, args)"
   ]
  }
 ],
 "metadata": {
  "interpreter": {
   "hash": "b2d565a274c8c4b167d66b66032adfd66204cab9807ebcd245315002dbcc195d"
  },
  "kernelspec": {
   "display_name": "Python 3.9.7 ('mmdet')",
   "language": "python",
   "name": "python3"
  },
  "language_info": {
   "codemirror_mode": {
    "name": "ipython",
    "version": 3
   },
   "file_extension": ".py",
   "mimetype": "text/x-python",
   "name": "python",
   "nbconvert_exporter": "python",
   "pygments_lexer": "ipython3",
   "version": "3.9.7"
  },
  "orig_nbformat": 4
 },
 "nbformat": 4,
 "nbformat_minor": 2
}
